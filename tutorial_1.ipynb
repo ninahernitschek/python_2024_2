{
 "cells": [
  {
   "cell_type": "markdown",
   "metadata": {
    "slideshow": {
     "slide_type": "slide"
    }
   },
   "source": [
    "**Python (Semester 2 2024)**\n",
    "# 1 Getting Started\n",
    "\n",
    "*N. Hernitschek*\n",
    "\n",
    "This notebook contains what we need to get started with **Python (Semester 2 2024)**. "
   ]
  },
  {
   "cell_type": "markdown",
   "metadata": {},
   "source": [
    "---\n",
    "## Contents\n",
    "* [Python installation](#second-bullet)\n",
    "* [Basics](#second-bullet)\n",
    "* [Coding Exercise](#third-bullet)\n",
    "* [Good Coding Style](#fourth-bullet)\n",
    "* [Summary](#fifth-bullet)\n"
   ]
  },
  {
   "cell_type": "markdown",
   "metadata": {},
   "source": [
    "## 1. Python installation <a class=\"anchor\" id=\"first-bullet\"></a>\n",
    "\n",
    "Everyone will need to have the proper software environment in order to be able to participate in the course.  \n",
    "\n",
    "If you don't have Python 3.x (e.g. Python 3.7., 3.8 or 3.9) already installed, please follow the steps below.\n",
    "If you already have a Python 3.x installation, make sure you have the packages numpy, scipy, matplotlib, scikit-learn installed; otherwise, install them using `pip`.\n",
    "The goal of this is having a working Python3 environment with the aforementioned packages."
   ]
  },
  {
   "cell_type": "markdown",
   "metadata": {},
   "source": [
    "### Miniconda\n",
    "\n",
    "1. Install Miniconda (skip step 1 if you already have an Anaconda Python3 installation)\n",
    "\n",
    "\t* Either...download and install the relevant Miniconda file from here: https://docs.conda.io/en/latest/miniconda.html\n",
    "\t* OR... use Terminal command line installation\n",
    "\t\t* Download the right one for your architecture\n",
    "\t\t\t* Mac: `wget -q https://repo.anaconda.com/miniconda/Miniconda3-latest-MacOSX-x86_64.sh`\n",
    "\t\t\t* Linux: `wget -q https://repo.continuum.io/miniconda/Miniconda3-latest-Linux-x86_64.sh`\n",
    "\t\t\t* Windows (untested): `wget -q https://repo.anaconda.com/miniconda/Miniconda3-latest-Windows-x86_64.exe`\n",
    "\n",
    "\t\t* `bash Miniconda3-latest-Linux-x86_64.sh -b`\n",
    "\t\t* `rm Miniconda3-latest-Linux-x86_64.sh` (careful with “rm”)\n",
    "        \n",
    "        \n",
    "2. Open a **new** terminal window, and make sure your `$PATH` variable points to the Anaconda installation. You can do this by typing\n",
    "\n",
    "    `[~]$ which python`\n",
    "    \n",
    "    The result should show the path to the newly-installed Anaconda folder, e.g. `/usr/bin/python`\n",
    "    \n",
    "    \n",
    "3. If you have problems with step 2, then you may not have added Anaconda to you Python path during installation. How to do this depends on whether you use BASH or TCSH (if you don't know what that means, you are probably using BASH).\n",
    "\n",
    "    I use BASH, so have the following line added to my `.bash_profile` file\n",
    "    \n",
    "    `\n",
    "    export PATH=\"$HOME/opt/miniconda3/bin:$PATH\"\n",
    "    `\n",
    "\n",
    "    If you use TCSH instead, you will need the following in your `.tcshrc` file:                                                                                                                                \n",
    "    `\n",
    "    set path=(/Users/gtr/opt/anaconda3/bin $path)\n",
    "    `\n",
    "\n",
    "    Now repeat step 2."
   ]
  },
  {
   "cell_type": "markdown",
   "metadata": {},
   "source": [
    "### Python environment for class\n",
    "\n",
    "If using Anaconda, I recomment using a Python environment.\n",
    "\n",
    "1. Create a new Python environment for this class: `conda create -n astr3890 python=3.8 numpy scipy matplotlib scikit-learn nb_conda`. Press `y` to proceed when asked.\n",
    "\n",
    "\n",
    "2. This will create a conda environment that can be activated by `conda activate astr3890`\n",
    "\n",
    "\n",
    "3. Open a `jupyter notebook`\n",
    "\n",
    "\n",
    "4. Set the Kernel\n",
    "\n",
    "   * when opening a new notebook: click `New` and select `Python [conda env:astr8070]`  \n",
    "   * when opening an existing notebook (like this tutorial): click `Kernel` --> `Change Kernel` --> `Python [conda env:astr8070]`\n",
    "   \n",
    "   \n",
    "5. When necessary, you can deactivate this Python environment with `conda deactivate`   \n",
    "  "
   ]
  },
  {
   "cell_type": "markdown",
   "metadata": {},
   "source": [
    "My package versions are as follows. If you run into problems that I am not having, resolving package version differences would be a good place to start debugging."
   ]
  },
  {
   "cell_type": "markdown",
   "metadata": {},
   "source": [
    "You can check your package versions with:"
   ]
  },
  {
   "cell_type": "code",
   "execution_count": 1,
   "metadata": {},
   "outputs": [
    {
     "name": "stdout",
     "output_type": "stream",
     "text": [
      "python version  3.10.6  core programming language\n",
      "numpy version  1.21.5  efficient array operations\n",
      "scipy version  1.10.1  scientific computing tools\n",
      "matplotlib version  3.7.1  plotting and visualization\n",
      "sklearn version  1.2.2  machine learning\n"
     ]
    }
   ],
   "source": [
    "from platform import python_version\n",
    "import numpy\n",
    "import scipy\n",
    "import matplotlib\n",
    "import sklearn\n",
    "\n",
    "print(\"python version \",python_version(), \" core programming language\")\n",
    "print(\"numpy version \",numpy.__version__, \" efficient array operations\")\n",
    "print(\"scipy version \",scipy.__version__, \" scientific computing tools\")\n",
    "print(\"matplotlib version \",matplotlib.__version__, \" plotting and visualization\")\n",
    "print(\"sklearn version \",sklearn.__version__, \" machine learning\")"
   ]
  },
  {
   "cell_type": "markdown",
   "metadata": {
    "slideshow": {
     "slide_type": "slide"
    }
   },
   "source": [
    "## 2. Basics <a class=\"anchor\" id=\"third-bullet\"></a>\n",
    "\n",
    "\n",
    "### Interfacing with Python\n",
    "\n",
    "You can run Python code by 1) starting Python on the command line (**remember to activate the class python environment first!**): \n",
    "\n",
    "    $ python\n",
    "    \n",
    "or 2) using a web-based interactive interface [Jupyter](http://jupyter.org/).\n",
    "\n",
    "We'll be using the latter for most of the class.\n",
    "\n",
    "To start the notebook app, run on the command line:\n",
    "\n",
    "    $ jupyter notebook &\n",
    "    \n",
    "This will pop up a web page in your default browser and show the Dashboard where you can navigate to a particular notebook or open a new one.  You can also open a notebook directly with \n",
    "\n",
    "    $ jupyter notebook Lecture_X.ipynb &\n",
    "   \n",
    "If you are creating a new notebook, click on `New` at the top-right of the page and select `Python [conda env:astr8070]`. When opening an existing notebook, click `Kernel` --> `Change Kernel` --> `Python [conda env:astr8070]`\n",
    "\n",
    "---\n",
    "In case Jupyter notebooks cannot be executed, you have to install the packages first:\n",
    "    \n",
    "    $ pip3 install jupyter\n",
    " \n",
    "    $ python3 -m ipykernel install --user\n",
    "\n",
    " "
   ]
  },
  {
   "cell_type": "markdown",
   "metadata": {
    "collapsed": true,
    "slideshow": {
     "slide_type": "slide"
    }
   },
   "source": [
    "### Working with jupyter notebooks\n",
    "\n",
    "Notebooks have two primary cell types: 'Markdown' and 'Code'. The Markdown cells just contain text (like this cell).  The Code cells are meant to be altered and executed.  \n",
    "\n",
    "To execute a cell in the notebook, type '**shift-return**'. If you see a `*` in the bracket left of the cell or a `Busy` in the tab title, it means the command is in the process of running, and you need to wait for it to finish. This happens frequently for code cells.\n",
    "\n",
    "The notebook is autosaved, so that when you return to a notebook, everything is the same as you left it. If you want to reset it, you can do “revert to checkpoint”.  If you save it yourself, you will create a checkpoint, and the original version will be unavailable.\n",
    "\n",
    "--- \n",
    "\n",
    "Here are some useful commands to get you started (# followed by text indicates a comment and not what you type)!\n",
    "\n",
    "    In [ ]: ?          # basic help function.  Pops open a sub-frame at the bottom of page.  \n",
    "                         Close with \"x\".\n",
    "    \n",
    "    In [ ]: %quickref  # Pops open a quick reference card\n",
    "    \n",
    "    In [ ]: ! \t       # spawning out to the operating system; \n",
    "                         e.g files=!ls will fill the variable files \n",
    "                         with a list of files in your directory.\n",
    "\n",
    "--- \n",
    "\n",
    "Jupyter also contains a number of [“magic” commands](https://ipython.org/ipython-doc/dev/interactive/magics.html).\n",
    "Two examples are\n",
    "\n",
    "    In [ ]: %matplotlib inline  # makes plots within the web browser instead of popping up a new window\n",
    "    \n",
    "    In [ ]: %whos               # lists the vectors, etc. that you have defined.\n",
    "    \n",
    "    In [ ]: %timeit func.       # times a function `func` that you have defined\n",
    "\n",
    "Jupyter also has lots of [keyboard shortcuts](https://ipython.org/ipython-doc/1/interactive/notebook.html#keyboard-shortcuts) – the main one is shift-enter to run a cell."
   ]
  },
  {
   "cell_type": "markdown",
   "metadata": {
    "slideshow": {
     "slide_type": "slide"
    }
   },
   "source": [
    "## 3. Coding Exercise <a class=\"anchor\" id=\"third-bullet\"></a>\n",
    "\n",
    "We start here with out first coding exercise that builds upon what we have learned so far.\n",
    "\n",
    "### 3.1 Problem 1\n",
    "Create a variable `num_list`, and set it equal to a list containing 42,46,54,65, and 90 as elements. Then set a variable called `sliced` to `num_list[3]`. Print both to see what it outputs. Now\n",
    "define a variable called `total` and use the method shown above to set it equal to the sum of the first\n",
    "two elements in the list (do this programmatically, not by typing them in manually). What is the\n",
    "total you get?\n",
    "\n",
    "### 3.2 Problem 2\n",
    "\n",
    "Create a string called `first_name` and set it equal to a string containing your first name.\n",
    "Also create a string called `last_name` and set it equal to your last name. Concatenate the two strings into\n",
    "a single string that prints your full name, with a space between the two words.\n",
    "\n",
    "### 3.3 Problem 3\n",
    "\n",
    "Identify all the syntax errors in the following block of code:\n",
    "\n",
    "`list_1 = [1,2,’3’,)`\n",
    "\n",
    "`string = ‘this is a string”`\n",
    "\n",
    "`new_list = append.old_list[new_value]`\n",
    "\n",
    "\n"
   ]
  },
  {
   "cell_type": "code",
   "execution_count": null,
   "metadata": {
    "slideshow": {
     "slide_type": "slide"
    }
   },
   "outputs": [],
   "source": []
  },
  {
   "cell_type": "markdown",
   "metadata": {},
   "source": [
    "## 4. Good Coding Style <a class=\"anchor\" id=\"fourth-bullet\"></a>\n",
    "\n",
    "1. Give each piece of code an informative name, and separate the words in the name by\n",
    "underscores. So, for instance, if you have code to populate the area on a sphere at random,\n",
    "call that code populate_sphere_at_random.\n",
    "\n",
    "2. Break up code in smaller meaningful pieces that can easily be reused. Write functions.\n",
    "\n",
    "3. Comment your code well. When you adopt code from other sources (i.e: the internet), it is\n",
    "good practice to reference where it came from in comments as well.\n",
    "\n",
    "4. When commiting changed files, always add a comment like in the example above. \n",
    "\n"
   ]
  },
  {
   "cell_type": "markdown",
   "metadata": {
    "slideshow": {
     "slide_type": "slide"
    }
   },
   "source": [
    "## Summary <a class=\"anchor\" id=\"fifth-bullet\"></a>\n",
    "\n",
    "At this point, all of you should have:\n",
    "* a working Python3 installation, e.g. using the Anaconda/Miniconda Python Distribution\n",
    "* a basic understanding on how to work with Python"
   ]
  },
  {
   "cell_type": "code",
   "execution_count": null,
   "metadata": {},
   "outputs": [],
   "source": []
  }
 ],
 "metadata": {
  "anaconda-cloud": {},
  "kernelspec": {
   "display_name": "Python 3 (ipykernel)",
   "language": "python",
   "name": "python3"
  },
  "language_info": {
   "codemirror_mode": {
    "name": "ipython",
    "version": 3
   },
   "file_extension": ".py",
   "mimetype": "text/x-python",
   "name": "python",
   "nbconvert_exporter": "python",
   "pygments_lexer": "ipython3",
   "version": "3.10.12"
  }
 },
 "nbformat": 4,
 "nbformat_minor": 1
}
