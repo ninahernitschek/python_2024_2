{
 "cells": [
  {
   "cell_type": "markdown",
   "metadata": {
    "slideshow": {
     "slide_type": "slide"
    }
   },
   "source": [
    "**Python (Semester 2 2024)**\n",
    "# 7 Astronomical Data Sources\n",
    "\n",
    "*N. Hernitschek*\n",
    "\n",
    "This notebook contains examples on how to use Python to access astronomical data sources and how to work with the data obtained as part of **Python (Semester 2 2024)**. "
   ]
  },
  {
   "cell_type": "markdown",
   "metadata": {},
   "source": [
    "---\n",
    "## Contents\n",
    "* [Using astroquery](#first-bullet)\n",
    "* [Accessing Gaia Data](#second-bullet)\n",
    "* [Best Practices](#third-bullet)\n",
    "* [Summary](#third-bullet)\n"
   ]
  },
  {
   "cell_type": "markdown",
   "metadata": {},
   "source": [
    "## 1. Using astroquery <a class=\"anchor\" id=\"first-bullet\"></a>\n",
    "\n",
    "This module can be used to query the Ned web service. All queries other than image and spectra queries return results in a Table. Image and spectra queries on the other hand return the results as a list of HDUList objects. \n",
    "\n",
    "These queries may be used for querying a region around a named object or coordinates (i.e near name and near position queries). The radius of the region should be specified in degrees or equivalent units. An easy way to do this is to use an `Quantity` object to specify the radius and units. The radius may also be specified as a string in which case it will be parsed using `Angle`. If no radius is specified, it defaults to 1 arcmin. Another optional parameter is the equinox if coordinates are specified. By default this is J2000.0 but can also be set to B1950.0.\n"
   ]
  },
  {
   "cell_type": "code",
   "execution_count": 2,
   "metadata": {},
   "outputs": [
    {
     "name": "stdout",
     "output_type": "stream",
     "text": [
      "No.        Object Name             RA        DEC     ... Redshift Points Diameter Points Associations\n",
      "                                degrees    degrees   ...                                             \n",
      "--- -------------------------- ---------- ---------- ... --------------- --------------- ------------\n",
      "  1  WISEA J122855.03+020309.1  187.22917    2.05222 ...               0               0            0\n",
      "  2 SSTSL2 J122855.02+020313.7  187.22925    2.05381 ...               0               0            0\n",
      "  3 SSTSL2 J122855.23+020341.5  187.23013    2.06154 ...               0               0            0\n",
      "  4 SSTSL2 J122855.36+020346.9  187.23068    2.06304 ...               0               0            0\n",
      "  5 SSTSL2 J122855.64+020239.1  187.23187    2.04421 ...               0               0            0\n",
      "  6 SSTSL2 J122855.66+020407.1  187.23194    2.06864 ...               0               0            0\n",
      "  7 SSTSL2 J122855.73+020232.2  187.23208    2.04222 ...               0               0            0\n",
      "  8 SSTSL2 J122855.75+020245.2  187.23233     2.0459 ...               0               0            0\n",
      "...                        ...        ...        ... ...             ...             ...          ...\n",
      "859 SSTSL2 J122917.69+020335.2  187.32373    2.05981 ...               0               0            0\n",
      "860  WISEA J122917.76+020415.3  187.32375    2.07083 ...               0               0            0\n",
      "861   SDSS J122917.72+020356.8  187.32385    2.06579 ...               0               3            0\n",
      "862 SSTSL2 J122917.87+020349.7   187.3245    2.06381 ...               0               0            0\n",
      "863 SSTSL2 J122918.04+020334.2  187.32519     2.0595 ...               0               0            0\n",
      "864 SSTSL2 J122918.24+020330.7    187.326    2.05854 ...               0               0            0\n",
      "865   SDSS J122918.38+020323.4   187.3266    2.05652 ...               0               4            0\n",
      "866 SSTSL2 J122918.52+020338.9  187.32718    2.06083 ...               0               0            0\n",
      "867 SSTSL2 J122918.64+020326.7  187.32767    2.05742 ...               0               0            0\n",
      "Length = 867 rows\n"
     ]
    }
   ],
   "source": [
    "from astroquery.ipac.ned import Ned\n",
    "\n",
    "import astropy.units as u\n",
    "\n",
    "result_table = Ned.query_region(\"3c 273\", radius=0.05 * u.deg)\n",
    "\n",
    "print(result_table)\n"
   ]
  },
  {
   "cell_type": "markdown",
   "metadata": {},
   "source": [
    "Instead of using the name, the target may also be specified via coordinates. Any of the coordinate systems available in `astropy.coordinates` may be used (ICRS, Galactic, FK4, FK5). Note also the use of the `equinox` keyword argument:"
   ]
  },
  {
   "cell_type": "code",
   "execution_count": null,
   "metadata": {},
   "outputs": [],
   "source": [
    "from astroquery.ipac.ned import Ned\n",
    "\n",
    "import astropy.units as u\n",
    "\n",
    "from astropy import coordinates\n",
    "\n",
    "co = coordinates.SkyCoord(ra=56.38, dec=38.43,\n",
    "\n",
    "                          unit=(u.deg, u.deg), frame='fk4')\n",
    "\n",
    "result_table = Ned.query_region(co, radius=0.1 * u.deg, equinox='B1950.0')\n",
    "\n",
    "print(result_table)"
   ]
  },
  {
   "cell_type": "markdown",
   "metadata": {},
   "source": [
    "**Question:** Which use cases of this can you think of?"
   ]
  },
  {
   "cell_type": "markdown",
   "metadata": {},
   "source": [
    "### Query in the IAU format\n",
    "\n",
    "The IAU format for coordinates may also be used for querying purposes. Additional parameters that can be specified for these queries is the reference frame (`frame`) of the coordinates. The default value is `Equatorial`; other possible values are `Ecliptic`, `Galactic` and `SuperGalactic`. The `equinox` can also be explicitly chosen (same as in region queries). It default value is `B1950`, but it can be set to `J2000.0`. Note that Ned report results by searching in a 15 arcmin radius around the specified target."
   ]
  },
  {
   "cell_type": "code",
   "execution_count": 3,
   "metadata": {},
   "outputs": [
    {
     "name": "stdout",
     "output_type": "stream",
     "text": [
      "No.        Object Name            RA        DEC     ... Redshift Points Diameter Points Associations\n",
      "                               degrees    degrees   ...                                             \n",
      "--- ------------------------- ---------- ---------- ... --------------- --------------- ------------\n",
      "  1 WISEA J123639.37-423822.9  189.16406  -42.63971 ...               0               0            0\n",
      "  2 WISEA J123639.47-423656.3  189.16458  -42.61564 ...               0               0            0\n",
      "  3 WISEA J123639.61-423637.9  189.16506  -42.61057 ...               0               0            0\n",
      "  4 WISEA J123639.91-423709.9   189.1663  -42.61943 ...               0               0            0\n",
      "  5 WISEA J123640.01-423843.6  189.16674  -42.64546 ...               0               0            0\n",
      "  6 WISEA J123640.19-423614.0  189.16747  -42.60387 ...               0               0            0\n",
      "  7 WISEA J123640.30-423745.4  189.16797  -42.62929 ...               0               0            0\n",
      "  8 WISEA J123640.67-423649.1  189.16949  -42.61367 ...               0               0            0\n",
      "...                       ...        ...        ... ...             ...             ...          ...\n",
      "755 WISEA J123745.32-423812.9  189.43886  -42.63693 ...               0               0            0\n",
      "756 WISEA J123745.45-423708.8  189.43943  -42.61917 ...               0               0            0\n",
      "757 WISEA J123745.73-423605.1  189.44057  -42.60142 ...               0               0            0\n",
      "758 WISEA J123745.74-423544.5   189.4406  -42.59572 ...               0               0            0\n",
      "759 WISEA J123746.26-423617.6  189.44275  -42.60491 ...               0               0            0\n",
      "760   2MASS J12374631-4236174  189.44299  -42.60484 ...               0               0            0\n",
      "761 WISEA J123746.44-423727.9  189.44359  -42.62427 ...               0               0            0\n",
      "762 WISEA J123746.48-423838.1   189.4437  -42.64394 ...               0               0            0\n",
      "763 WISEA J123747.07-423742.9  189.44616  -42.62859 ...               0               0            0\n",
      "Length = 763 rows\n"
     ]
    }
   ],
   "source": [
    "from astroquery.ipac.ned import Ned\n",
    "\n",
    "result_table = Ned.query_region_iau('1234-423', frame='SuperGalactic', equinox='J2000.0')\n",
    "\n",
    "print(result_table)"
   ]
  },
  {
   "cell_type": "markdown",
   "metadata": {},
   "source": [
    "### Troubleshooting\n",
    "\n",
    "If you are repeatedly getting failed queries, or bad/out-of-date results, try clearing your cache:\n",
    "\n",
    "\n"
   ]
  },
  {
   "cell_type": "code",
   "execution_count": null,
   "metadata": {},
   "outputs": [],
   "source": [
    "from astroquery.ipac.ned import Ned\n",
    "\n",
    "Ned.clear_cache()"
   ]
  },
  {
   "cell_type": "markdown",
   "metadata": {},
   "source": [
    "## 2. Accessing Gaia Data <a class=\"anchor\" id=\"second-bullet\"></a>\n",
    "\n",
    "For selecting data from a database, it is necessary to compose a **query**, which is code written in a **query language**. A commonly used query language for databases is SQL (Structured Query Language). We use here ADQL which is a dialect of SQL. ADQL stands for \"Astronomical Data Query Language\".\n",
    "\n",
    "The reference manual for ADQL is here:\n",
    "http://www.ivoa.net/documents/ADQL/20180112/PR-ADQL-2.1-20180112.html\n",
    "\n",
    "An easier introduction might be this, however:\n",
    "https://www.gaia.ac.uk/data/gaia-data-release-1/adql-cookbook\n",
    "\n",
    "\n",
    "\n",
    "For accessing Gaia data, we use `astroquery`.\n",
    "\n",
    "\n",
    "### Connecting to Gaia\n",
    "\n",
    "We can connect to the Gaia database simply like this:\n",
    "\n",
    " "
   ]
  },
  {
   "cell_type": "code",
   "execution_count": 1,
   "metadata": {},
   "outputs": [],
   "source": [
    "from astroquery.gaia import Gaia"
   ]
  },
  {
   "cell_type": "markdown",
   "metadata": {},
   "source": [
    "This import statement creates a TAP+ connection; TAP stands for “Table Access Protocol”, which is a network protocol for sending queries to the database and receiving the results."
   ]
  },
  {
   "cell_type": "markdown",
   "metadata": {},
   "source": [
    "### Working with Tables\n",
    "\n",
    "Before we stark working with databases and tables, it is important to quickly clarify what a database is.\n",
    "\n",
    "Generally, a database can be seen as a collection of data, structured into tables which have columns and rows. Tables can reference to each other, and usually they do so.\n",
    "\n",
    "\n",
    "More specifically, when we are talking about ADQL or SQL:\n",
    "\n",
    "* A database is a collection of one or more named tables.\n",
    "* Each table is a 2-D array with one or more named columns of data.\n",
    "\n",
    "In the following, we use `Gaia.load_tables` to get the names of the tables in the Gaia database. With the option `only_names=True`, it loads information about the tables, called **metadata**, not the data itself.\n"
   ]
  },
  {
   "cell_type": "markdown",
   "metadata": {},
   "source": [
    "\n"
   ]
  },
  {
   "cell_type": "code",
   "execution_count": 2,
   "metadata": {},
   "outputs": [
    {
     "name": "stdout",
     "output_type": "stream",
     "text": [
      "INFO: Retrieving tables... [astroquery.utils.tap.core]\n",
      "INFO: Parsing tables... [astroquery.utils.tap.core]\n",
      "INFO: Done. [astroquery.utils.tap.core]\n"
     ]
    }
   ],
   "source": [
    "tables = Gaia.load_tables(only_names=True)"
   ]
  },
  {
   "cell_type": "markdown",
   "metadata": {},
   "source": [
    "After loading the table information, we have to print it for which we use a `for`loop:\n"
   ]
  },
  {
   "cell_type": "code",
   "execution_count": 3,
   "metadata": {
    "slideshow": {
     "slide_type": "slide"
    }
   },
   "outputs": [
    {
     "name": "stdout",
     "output_type": "stream",
     "text": [
      "external.apassdr9\n",
      "external.catwise2020\n",
      "external.gaiadr2_astrophysical_parameters\n",
      "external.gaiadr2_geometric_distance\n",
      "external.gaiaedr3_distance\n",
      "external.gaiaedr3_gcns_main_1\n",
      "external.gaiaedr3_gcns_rejected_1\n",
      "external.gaiaedr3_spurious\n",
      "external.galex_ais\n",
      "external.ravedr5_com\n",
      "external.ravedr5_dr5\n",
      "external.ravedr5_gra\n",
      "external.ravedr5_on\n",
      "external.ravedr6\n",
      "external.sdssdr13_photoprimary\n",
      "external.skymapperdr1_master\n",
      "external.skymapperdr2_master\n",
      "external.tmass_xsc\n",
      "gaiadr1.aux_qso_icrf2_match\n",
      "gaiadr1.ext_phot_zero_point\n",
      "gaiadr1.allwise_best_neighbour\n",
      "gaiadr1.allwise_neighbourhood\n",
      "gaiadr1.gsc23_best_neighbour\n",
      "gaiadr1.gsc23_neighbourhood\n",
      "gaiadr1.ppmxl_best_neighbour\n",
      "gaiadr1.ppmxl_neighbourhood\n",
      "gaiadr1.sdss_dr9_best_neighbour\n",
      "gaiadr1.sdss_dr9_neighbourhood\n",
      "gaiadr1.tmass_best_neighbour\n",
      "gaiadr1.tmass_neighbourhood\n",
      "gaiadr1.ucac4_best_neighbour\n",
      "gaiadr1.ucac4_neighbourhood\n",
      "gaiadr1.urat1_best_neighbour\n",
      "gaiadr1.urat1_neighbourhood\n",
      "gaiadr1.cepheid\n",
      "gaiadr1.phot_variable_time_series_gfov\n",
      "gaiadr1.phot_variable_time_series_gfov_statistical_parameters\n",
      "gaiadr1.rrlyrae\n",
      "gaiadr1.variable_summary\n",
      "gaiadr1.allwise_original_valid\n",
      "gaiadr1.gsc23_original_valid\n",
      "gaiadr1.ppmxl_original_valid\n",
      "gaiadr1.sdssdr9_original_valid\n",
      "gaiadr1.tmass_original_valid\n",
      "gaiadr1.ucac4_original_valid\n",
      "gaiadr1.urat1_original_valid\n",
      "gaiadr1.gaia_source\n",
      "gaiadr1.tgas_source\n",
      "gaiadr2.aux_allwise_agn_gdr2_cross_id\n",
      "gaiadr2.aux_iers_gdr2_cross_id\n",
      "gaiadr2.aux_sso_orbit_residuals\n",
      "gaiadr2.aux_sso_orbits\n",
      "gaiadr2.dr1_neighbourhood\n",
      "gaiadr2.allwise_best_neighbour\n",
      "gaiadr2.allwise_neighbourhood\n",
      "gaiadr2.apassdr9_best_neighbour\n",
      "gaiadr2.apassdr9_neighbourhood\n",
      "gaiadr2.gsc23_best_neighbour\n",
      "gaiadr2.gsc23_neighbourhood\n",
      "gaiadr2.hipparcos2_best_neighbour\n",
      "gaiadr2.hipparcos2_neighbourhood\n",
      "gaiadr2.panstarrs1_best_neighbour\n",
      "gaiadr2.panstarrs1_neighbourhood\n",
      "gaiadr2.ppmxl_best_neighbour\n",
      "gaiadr2.ppmxl_neighbourhood\n",
      "gaiadr2.ravedr5_best_neighbour\n",
      "gaiadr2.ravedr5_neighbourhood\n",
      "gaiadr2.sdssdr9_best_neighbour\n",
      "gaiadr2.sdssdr9_neighbourhood\n",
      "gaiadr2.tmass_best_neighbour\n",
      "gaiadr2.tmass_neighbourhood\n",
      "gaiadr2.tycho2_best_neighbour\n",
      "gaiadr2.tycho2_neighbourhood\n",
      "gaiadr2.urat1_best_neighbour\n",
      "gaiadr2.urat1_neighbourhood\n",
      "gaiadr2.sso_observation\n",
      "gaiadr2.sso_source\n",
      "gaiadr2.vari_cepheid\n",
      "gaiadr2.vari_classifier_class_definition\n",
      "gaiadr2.vari_classifier_definition\n",
      "gaiadr2.vari_classifier_result\n",
      "gaiadr2.vari_long_period_variable\n",
      "gaiadr2.vari_rotation_modulation\n",
      "gaiadr2.vari_rrlyrae\n",
      "gaiadr2.vari_short_timescale\n",
      "gaiadr2.vari_time_series_statistics\n",
      "gaiadr2.panstarrs1_original_valid\n",
      "gaiadr2.gaia_source\n",
      "gaiadr2.ruwe\n",
      "gaiadr3.gaia_source\n",
      "gaiadr3.gaia_source_lite\n",
      "gaiadr3.astrophysical_parameters\n",
      "gaiadr3.astrophysical_parameters_supp\n",
      "gaiadr3.oa_neuron_information\n",
      "gaiadr3.oa_neuron_xp_spectra\n",
      "gaiadr3.total_galactic_extinction_map\n",
      "gaiadr3.total_galactic_extinction_map_opt\n",
      "gaiadr3.commanded_scan_law\n",
      "gaiadr3.allwise_best_neighbour\n",
      "gaiadr3.allwise_neighbourhood\n",
      "gaiadr3.apassdr9_best_neighbour\n",
      "gaiadr3.apassdr9_join\n",
      "gaiadr3.apassdr9_neighbourhood\n",
      "gaiadr3.dr2_neighbourhood\n",
      "gaiadr3.gsc23_best_neighbour\n",
      "gaiadr3.gsc23_join\n",
      "gaiadr3.gsc23_neighbourhood\n",
      "gaiadr3.hipparcos2_best_neighbour\n",
      "gaiadr3.hipparcos2_neighbourhood\n",
      "gaiadr3.panstarrs1_best_neighbour\n",
      "gaiadr3.panstarrs1_join\n",
      "gaiadr3.panstarrs1_neighbourhood\n",
      "gaiadr3.ravedr5_best_neighbour\n",
      "gaiadr3.ravedr5_join\n",
      "gaiadr3.ravedr5_neighbourhood\n",
      "gaiadr3.ravedr6_best_neighbour\n",
      "gaiadr3.ravedr6_join\n",
      "gaiadr3.ravedr6_neighbourhood\n",
      "gaiadr3.sdssdr13_best_neighbour\n",
      "gaiadr3.sdssdr13_join\n",
      "gaiadr3.sdssdr13_neighbourhood\n",
      "gaiadr3.skymapperdr2_best_neighbour\n",
      "gaiadr3.skymapperdr2_join\n",
      "gaiadr3.skymapperdr2_neighbourhood\n",
      "gaiadr3.tmass_psc_xsc_best_neighbour\n",
      "gaiadr3.tmass_psc_xsc_join\n",
      "gaiadr3.tmass_psc_xsc_neighbourhood\n",
      "gaiadr3.tycho2tdsc_merge_best_neighbour\n",
      "gaiadr3.tycho2tdsc_merge_neighbourhood\n",
      "gaiadr3.urat1_best_neighbour\n",
      "gaiadr3.urat1_neighbourhood\n",
      "gaiadr3.galaxy_candidates\n",
      "gaiadr3.galaxy_catalogue_name\n",
      "gaiadr3.qso_candidates\n",
      "gaiadr3.qso_catalogue_name\n",
      "gaiadr3.nss_acceleration_astro\n",
      "gaiadr3.nss_non_linear_spectro\n",
      "gaiadr3.nss_two_body_orbit\n",
      "gaiadr3.nss_vim_fl\n",
      "gaiadr3.binary_masses\n",
      "gaiadr3.chemical_cartography\n",
      "gaiadr3.gold_sample_carbon_stars\n",
      "gaiadr3.gold_sample_fgkm_stars\n",
      "gaiadr3.gold_sample_oba_stars\n",
      "gaiadr3.gold_sample_solar_analogues\n",
      "gaiadr3.gold_sample_spss\n",
      "gaiadr3.gold_sample_ucd\n",
      "gaiadr3.sso_orbits\n",
      "gaiadr3.synthetic_photometry_gspc\n",
      "gaiadr3.vari_spurious_signals\n",
      "gaiadr3.agn_cross_id\n",
      "gaiadr3.frame_rotator_source\n",
      "gaiadr3.gaia_crf3_xm\n",
      "gaiadr3.alerts_mixedin_sourceids\n",
      "gaiadr3.science_alerts\n",
      "gaiadr3.gaia_source_simulation\n",
      "gaiadr3.gaia_universe_model\n",
      "gaiadr3.sso_observation\n",
      "gaiadr3.sso_reflectance_spectrum\n",
      "gaiadr3.sso_source\n",
      "gaiadr3.xp_summary\n",
      "gaiadr3.vari_agn\n",
      "gaiadr3.vari_cepheid\n",
      "gaiadr3.vari_classifier_class_definition\n",
      "gaiadr3.vari_classifier_definition\n",
      "gaiadr3.vari_classifier_result\n",
      "gaiadr3.vari_compact_companion\n",
      "gaiadr3.vari_eclipsing_binary\n",
      "gaiadr3.vari_epoch_radial_velocity\n",
      "gaiadr3.vari_long_period_variable\n",
      "gaiadr3.vari_microlensing\n",
      "gaiadr3.vari_ms_oscillator\n",
      "gaiadr3.vari_planetary_transit\n",
      "gaiadr3.vari_planetary_transit_13june2022\n",
      "gaiadr3.vari_rad_vel_statistics\n",
      "gaiadr3.vari_rotation_modulation\n",
      "gaiadr3.vari_rrlyrae\n",
      "gaiadr3.vari_short_timescale\n",
      "gaiadr3.vari_summary\n",
      "gaiadr3.tycho2tdsc_merge\n",
      "gaiaedr3.gaia_source\n",
      "gaiaedr3.agn_cross_id\n",
      "gaiaedr3.commanded_scan_law\n",
      "gaiaedr3.dr2_neighbourhood\n",
      "gaiaedr3.frame_rotator_source\n",
      "gaiaedr3.allwise_best_neighbour\n",
      "gaiaedr3.allwise_neighbourhood\n",
      "gaiaedr3.apassdr9_best_neighbour\n",
      "gaiaedr3.apassdr9_join\n",
      "gaiaedr3.apassdr9_neighbourhood\n",
      "gaiaedr3.gsc23_best_neighbour\n",
      "gaiaedr3.gsc23_join\n",
      "gaiaedr3.gsc23_neighbourhood\n",
      "gaiaedr3.hipparcos2_best_neighbour\n",
      "gaiaedr3.hipparcos2_neighbourhood\n",
      "gaiaedr3.panstarrs1_best_neighbour\n",
      "gaiaedr3.panstarrs1_join\n",
      "gaiaedr3.panstarrs1_neighbourhood\n",
      "gaiaedr3.ravedr5_best_neighbour\n",
      "gaiaedr3.ravedr5_join\n",
      "gaiaedr3.ravedr5_neighbourhood\n",
      "gaiaedr3.sdssdr13_best_neighbour\n",
      "gaiaedr3.sdssdr13_join\n",
      "gaiaedr3.sdssdr13_neighbourhood\n",
      "gaiaedr3.skymapperdr2_best_neighbour\n",
      "gaiaedr3.skymapperdr2_join\n",
      "gaiaedr3.skymapperdr2_neighbourhood\n",
      "gaiaedr3.tmass_psc_xsc_best_neighbour\n",
      "gaiaedr3.tmass_psc_xsc_join\n",
      "gaiaedr3.tmass_psc_xsc_neighbourhood\n",
      "gaiaedr3.tycho2tdsc_merge_best_neighbour\n",
      "gaiaedr3.tycho2tdsc_merge_neighbourhood\n",
      "gaiaedr3.urat1_best_neighbour\n",
      "gaiaedr3.urat1_neighbourhood\n",
      "gaiaedr3.gaia_source_simulation\n",
      "gaiaedr3.gaia_universe_model\n",
      "gaiaedr3.tycho2tdsc_merge\n",
      "gaiafpr.crowded_field_source\n",
      "gaiafpr.lens_candidates\n",
      "gaiafpr.lens_catalogue_name\n",
      "gaiafpr.lens_observation\n",
      "gaiafpr.lens_outlier\n",
      "gaiafpr.sso_observation\n",
      "gaiafpr.sso_source\n",
      "gaiafpr.interstellar_medium_params\n",
      "gaiafpr.interstellar_medium_spectra\n",
      "gaiafpr.vari_epoch_radial_velocity\n",
      "gaiafpr.vari_long_period_variable\n",
      "gaiafpr.vari_rad_vel_statistics\n",
      "public.hipparcos\n",
      "public.hipparcos_newreduction\n",
      "public.hubble_sc\n",
      "public.igsl_source\n",
      "public.igsl_source_catalog_ids\n",
      "public.tycho2\n",
      "public.dual\n",
      "tap_config.coord_sys\n",
      "tap_config.properties\n",
      "tap_schema.columns\n",
      "tap_schema.key_columns\n",
      "tap_schema.keys\n",
      "tap_schema.schemas\n",
      "tap_schema.tables\n"
     ]
    }
   ],
   "source": [
    "for table in tables:\n",
    "    print(table.name)\n"
   ]
  },
  {
   "cell_type": "markdown",
   "metadata": {},
   "source": [
    "We see that there are a lot of tables. We will not use all of them, however. \n",
    "\n",
    "The ones we will use in the following are:\n",
    "\n",
    "\n",
    "* `gaiadr2.gaia_source`, which contains Gaia data from data release 2\n",
    "\n",
    "* `gaiadr2.panstarrs1_original_valid`, which contains photometry data from PanSTARRS\n",
    "\n",
    "* `gaiadr2.panstarrs1_best_neighbour`, which we will use to cross-match each star observed by Gaia with the same star observed by PanSTARRS\n",
    "\n",
    "We can use `load_table` (note: this is different from `load_tables`) to retieve the metadata for a single table."
   ]
  },
  {
   "cell_type": "code",
   "execution_count": 4,
   "metadata": {},
   "outputs": [
    {
     "name": "stdout",
     "output_type": "stream",
     "text": [
      "Retrieving table 'gaiadr2.gaia_source'\n"
     ]
    },
    {
     "data": {
      "text/plain": [
       "<astroquery.utils.tap.model.taptable.TapTableMeta at 0x7f874b5cac20>"
      ]
     },
     "execution_count": 4,
     "metadata": {},
     "output_type": "execute_result"
    }
   ],
   "source": [
    "meta = Gaia.load_table('gaiadr2.gaia_source')\n",
    "meta"
   ]
  },
  {
   "cell_type": "markdown",
   "metadata": {},
   "source": [
    "We see that the result is an object of type `TapTableMeta`.\n",
    "To see its actual content, the metadata, we have to use `print`:\n"
   ]
  },
  {
   "cell_type": "code",
   "execution_count": 7,
   "metadata": {},
   "outputs": [
    {
     "name": "stdout",
     "output_type": "stream",
     "text": [
      "TAP Table name: gaiadr2.gaiadr2.gaia_source\n",
      "Description: This table has an entry for every Gaia observed source as listed in the\n",
      "Main Database accumulating catalogue version from which the catalogue\n",
      "release has been generated. It contains the basic source parameters,\n",
      "that is only final data (no epoch data) and no spectra (neither final\n",
      "nor epoch).\n",
      "Num. columns: 96\n",
      "solution_id\n",
      "designation\n",
      "source_id\n",
      "random_index\n",
      "ref_epoch\n",
      "ra\n",
      "ra_error\n",
      "dec\n",
      "dec_error\n",
      "parallax\n",
      "parallax_error\n",
      "parallax_over_error\n",
      "pmra\n",
      "pmra_error\n",
      "pmdec\n",
      "pmdec_error\n",
      "ra_dec_corr\n",
      "ra_parallax_corr\n",
      "ra_pmra_corr\n",
      "ra_pmdec_corr\n",
      "dec_parallax_corr\n",
      "dec_pmra_corr\n",
      "dec_pmdec_corr\n",
      "parallax_pmra_corr\n",
      "parallax_pmdec_corr\n",
      "pmra_pmdec_corr\n",
      "astrometric_n_obs_al\n",
      "astrometric_n_obs_ac\n",
      "astrometric_n_good_obs_al\n",
      "astrometric_n_bad_obs_al\n",
      "astrometric_gof_al\n",
      "astrometric_chi2_al\n",
      "astrometric_excess_noise\n",
      "astrometric_excess_noise_sig\n",
      "astrometric_params_solved\n",
      "astrometric_primary_flag\n",
      "astrometric_weight_al\n",
      "astrometric_pseudo_colour\n",
      "astrometric_pseudo_colour_error\n",
      "mean_varpi_factor_al\n",
      "astrometric_matched_observations\n",
      "visibility_periods_used\n",
      "astrometric_sigma5d_max\n",
      "frame_rotator_object_type\n",
      "matched_observations\n",
      "duplicated_source\n",
      "phot_g_n_obs\n",
      "phot_g_mean_flux\n",
      "phot_g_mean_flux_error\n",
      "phot_g_mean_flux_over_error\n",
      "phot_g_mean_mag\n",
      "phot_bp_n_obs\n",
      "phot_bp_mean_flux\n",
      "phot_bp_mean_flux_error\n",
      "phot_bp_mean_flux_over_error\n",
      "phot_bp_mean_mag\n",
      "phot_rp_n_obs\n",
      "phot_rp_mean_flux\n",
      "phot_rp_mean_flux_error\n",
      "phot_rp_mean_flux_over_error\n",
      "phot_rp_mean_mag\n",
      "phot_bp_rp_excess_factor\n",
      "phot_proc_mode\n",
      "bp_rp\n",
      "bp_g\n",
      "g_rp\n",
      "radial_velocity\n",
      "radial_velocity_error\n",
      "rv_nb_transits\n",
      "rv_template_teff\n",
      "rv_template_logg\n",
      "rv_template_fe_h\n",
      "phot_variable_flag\n",
      "l\n",
      "b\n",
      "ecl_lon\n",
      "ecl_lat\n",
      "priam_flags\n",
      "teff_val\n",
      "teff_percentile_lower\n",
      "teff_percentile_upper\n",
      "a_g_val\n",
      "a_g_percentile_lower\n",
      "a_g_percentile_upper\n",
      "e_bp_min_rp_val\n",
      "e_bp_min_rp_percentile_lower\n",
      "e_bp_min_rp_percentile_upper\n",
      "flame_flags\n",
      "radius_val\n",
      "radius_percentile_lower\n",
      "radius_percentile_upper\n",
      "lum_val\n",
      "lum_percentile_lower\n",
      "lum_percentile_upper\n",
      "datalink_url\n",
      "epoch_photometry_url\n"
     ]
    }
   ],
   "source": [
    "print(meta)\n",
    "\n",
    "for column in meta.columns:\n",
    "    print(column.name)\n",
    "    "
   ]
  },
  {
   "cell_type": "markdown",
   "metadata": {},
   "source": [
    "**Exercise:** Get the metadata for the other tables that we will use.\n"
   ]
  },
  {
   "cell_type": "code",
   "execution_count": null,
   "metadata": {},
   "outputs": [],
   "source": [
    "\n",
    "\n"
   ]
  },
  {
   "cell_type": "markdown",
   "metadata": {},
   "source": [
    "### Writing queries\n",
    "\n",
    "What we have not done yet is actually downloading the tables. We have only downloaded metadata so far.\n",
    "\n",
    "With tables of that size, generally not the complete table is downloaded, but the queries are used to only download the data you are interested in (instead of downloading everything and then applying some data selection).\n",
    "\n",
    "Here is an example of an ADQL query:"
   ]
  },
  {
   "cell_type": "code",
   "execution_count": 8,
   "metadata": {},
   "outputs": [],
   "source": [
    "query1 = \"\"\"SELECT \n",
    "TOP 10\n",
    "source_id, ra, dec, parallax \n",
    "FROM gaiadr2.gaia_source\n",
    "\"\"\""
   ]
  },
  {
   "cell_type": "markdown",
   "metadata": {},
   "source": [
    "The query written as a **triple-quoted string** so we can include line breaks in the query, which makes it easier to read.\n",
    "\n",
    "The words in uppercase are ADQL keywords:\n",
    "\n",
    "* `SELECT` indicates that we are selecting data (as opposed to adding or modifying data).\n",
    "* `TOP indicates that we only want the first 10 rows of the table, which is useful for testing a query before asking for all of the data.\n",
    "* `FROM specifies which table we want data from.\n",
    "\n",
    "The third line is a list of column names, indicating which columns we want.\n",
    "\n",
    "In this example, the keywords are capitalized and the column names are lowercase. Despite this is a common style, it is not required as ADQL and SQL are not case-sensitive.\n",
    "\n",
    "Also, the query is broken into multiple lines to make it more readable. This is a common style, but not required, as line breaks are not affecting the behavior of the query.\n",
    "\n",
    "\n",
    "To run this query, we use the `Gaia` object, which represents our connection to the Gaia database, and invoke `launch_job`:\n",
    "\n"
   ]
  },
  {
   "cell_type": "code",
   "execution_count": 9,
   "metadata": {},
   "outputs": [
    {
     "data": {
      "text/plain": [
       "<astroquery.utils.tap.model.job.Job at 0x7f8759dad960>"
      ]
     },
     "execution_count": 9,
     "metadata": {},
     "output_type": "execute_result"
    }
   ],
   "source": [
    "job = Gaia.launch_job(query1)\n",
    "job"
   ]
  },
  {
   "cell_type": "markdown",
   "metadata": {},
   "source": [
    "The result is an object that represents the job running on a Gaia server.\n",
    "You can access the metadata by printing it:\n",
    "    "
   ]
  },
  {
   "cell_type": "code",
   "execution_count": 10,
   "metadata": {},
   "outputs": [
    {
     "name": "stdout",
     "output_type": "stream",
     "text": [
      "<Table length=10>\n",
      "   name    dtype  unit                            description                             n_bad\n",
      "--------- ------- ---- ------------------------------------------------------------------ -----\n",
      "source_id   int64      Unique source identifier (unique within a particular Data Release)     0\n",
      "       ra float64  deg                                                    Right ascension     0\n",
      "      dec float64  deg                                                        Declination     0\n",
      " parallax float64  mas                                                           Parallax     2\n",
      "Jobid: None\n",
      "Phase: COMPLETED\n",
      "Owner: None\n",
      "Output file: 1703178969926O-result.vot.gz\n",
      "Results: None\n"
     ]
    }
   ],
   "source": [
    "print(job)"
   ]
  },
  {
   "cell_type": "markdown",
   "metadata": {},
   "source": [
    "A comment here: Don't worry about the line `Results: None`. That does not actually mean there are no results.\n",
    "\n",
    "However, `Phase: COMPLETED` indicates that the job is complete\n",
    "    \n",
    "We can get the results like this:"
   ]
  },
  {
   "cell_type": "code",
   "execution_count": 12,
   "metadata": {},
   "outputs": [
    {
     "data": {
      "text/plain": [
       "astropy.table.table.Table"
      ]
     },
     "execution_count": 12,
     "metadata": {},
     "output_type": "execute_result"
    }
   ],
   "source": [
    "results = job.get_results()\n",
    "type(results)"
   ]
  },
  {
   "cell_type": "markdown",
   "metadata": {},
   "source": [
    "The `type function indicates that the result is an Astropy Table.\n",
    "\n",
    "An Astropy Table is similar to a table in an SQL database, with a few differences:\n",
    "\n",
    "* SQL databases are stored somewhere, so they are persistent. An Astropy Table is stored in memory; it disappears when you turn off the computer (or shut down this Jupyter notebook).\n",
    "\n",
    "* SQL databases are designed to process queries. An Astropy Table can perform some query-like operations, like selecting columns and rows. But these operations use Python syntax, not SQL.\n",
    "\n",
    "\n",
    "In the following, we will display the contents of the table:\n",
    "\n",
    "\n"
   ]
  },
  {
   "cell_type": "code",
   "execution_count": 13,
   "metadata": {},
   "outputs": [
    {
     "data": {
      "text/html": [
       "<div><i>Table length=10</i>\n",
       "<table id=\"table140219982526640\" class=\"table-striped table-bordered table-condensed\">\n",
       "<thead><tr><th>source_id</th><th>ra</th><th>dec</th><th>parallax</th></tr></thead>\n",
       "<thead><tr><th></th><th>deg</th><th>deg</th><th>mas</th></tr></thead>\n",
       "<thead><tr><th>int64</th><th>float64</th><th>float64</th><th>float64</th></tr></thead>\n",
       "<tr><td>6003867407926739456</td><td>229.24758693475437</td><td>-43.16625918475101</td><td>0.05337544640744751</td></tr>\n",
       "<tr><td>6003867476646222720</td><td>229.27306373437722</td><td>-43.15186079086367</td><td>--</td></tr>\n",
       "<tr><td>6003862593274134272</td><td>229.3240572514041</td><td>-43.30003699919699</td><td>0.2910314419482718</td></tr>\n",
       "<tr><td>6003859986228465536</td><td>227.8416395835098</td><td>-41.90818099326277</td><td>--</td></tr>\n",
       "<tr><td>6003875581255862912</td><td>229.36961431833257</td><td>-43.03090376178989</td><td>-0.21654434890941276</td></tr>\n",
       "<tr><td>6003855794347089280</td><td>227.8787501383429</td><td>-42.0304574241058</td><td>0.5714909134248712</td></tr>\n",
       "<tr><td>6003880013661767680</td><td>229.09787222898308</td><td>-43.14185448285732</td><td>0.1649270591240445</td></tr>\n",
       "<tr><td>6003864964096236160</td><td>229.38597602489725</td><td>-43.19593891106351</td><td>-0.10824132246034551</td></tr>\n",
       "<tr><td>6003863452267599360</td><td>229.43070771018938</td><td>-43.293186721356236</td><td>-0.7520271427356142</td></tr>\n",
       "<tr><td>6003882526223613696</td><td>229.16484355674228</td><td>-43.0038650003512</td><td>0.18630754942153394</td></tr>\n",
       "</table></div>"
      ],
      "text/plain": [
       "<Table length=10>\n",
       "     source_id              ra                 dec               parallax      \n",
       "                           deg                 deg                 mas         \n",
       "       int64             float64             float64             float64       \n",
       "------------------- ------------------ ------------------- --------------------\n",
       "6003867407926739456 229.24758693475437  -43.16625918475101  0.05337544640744751\n",
       "6003867476646222720 229.27306373437722  -43.15186079086367                   --\n",
       "6003862593274134272  229.3240572514041  -43.30003699919699   0.2910314419482718\n",
       "6003859986228465536  227.8416395835098  -41.90818099326277                   --\n",
       "6003875581255862912 229.36961431833257  -43.03090376178989 -0.21654434890941276\n",
       "6003855794347089280  227.8787501383429   -42.0304574241058   0.5714909134248712\n",
       "6003880013661767680 229.09787222898308  -43.14185448285732   0.1649270591240445\n",
       "6003864964096236160 229.38597602489725  -43.19593891106351 -0.10824132246034551\n",
       "6003863452267599360 229.43070771018938 -43.293186721356236  -0.7520271427356142\n",
       "6003882526223613696 229.16484355674228   -43.0038650003512  0.18630754942153394"
      ]
     },
     "execution_count": 13,
     "metadata": {},
     "output_type": "execute_result"
    }
   ],
   "source": [
    "results"
   ]
  },
  {
   "cell_type": "markdown",
   "metadata": {},
   "source": [
    "Each column has a name, units, and a data type.\n",
    "\n",
    "For example, the units of `ra` and `dec` are degrees (`deg`), and their data type is `float64`, which is a 64-bit floating-point number, used to store measurements with a fraction part.\n",
    "\n",
    "This information comes from the Gaia database, and has been stored in the Astropy Table by Astroquery.\n",
    "\n",
    "\n",
    "The documentation of this table can be found here:\n",
    "https://gea.esac.esa.int/archive/documentation/GDR2/Gaia_archive/chap_datamodel/sec_dm_main_tables/ssec_dm_gaia_source.html\n",
    "        "
   ]
  },
  {
   "cell_type": "markdown",
   "metadata": {},
   "source": [
    "### Asynchronous queries\n",
    "\n",
    "`launch_job` asks the server to run the job \"synchronously\", which normally means it runs immediately. But synchronous jobs are limited to 2000 rows. For queries that return more rows, you should run \"asynchronously\", which mean they might take longer to get started.\n",
    "\n",
    "Often you will not be sure how many rows a query will return. Fo this, you can use the SQL command `COUNT to find out how many rows are in the result without actually returning them.\n",
    "\n",
    "After executing an asynchronous query, the results are stored in a file on the server where they are kept for three days (or longer with an account).\n",
    "\n",
    "\n",
    "In the following, as an example we make a query similar to `query1`, but with a few modifications:\n",
    "\n",
    "* It selects the first 3000 rows, so it is bigger than we should run synchronously.\n",
    "\n",
    "* It selects two additional columns, `pmra` and `pmdec`, which are proper motions along the axes of ra and dec.\n",
    "\n",
    "* A new keyword is introduced: `WHERE`.\n"
   ]
  },
  {
   "cell_type": "code",
   "execution_count": 14,
   "metadata": {},
   "outputs": [],
   "source": [
    "query2 = \"\"\"SELECT \n",
    "TOP 3000\n",
    "source_id, ra, dec, pmra, pmdec, parallax\n",
    "FROM gaiadr2.gaia_source\n",
    "WHERE parallax < 1\n",
    "\"\"\""
   ]
  },
  {
   "cell_type": "markdown",
   "metadata": {},
   "source": [
    "A `WHERE` clause indicates which rows we want to select. In this example, the query selects only rows where parallax is less than 1. This has the effect of selecting stars with relatively low parallax, which are farther away. We use this clause to exclude nearby stars that are unlikely to be part of GD-1.\n",
    "\n",
    "`WHERE` is one of the most common clauses in ADQL/SQL, and one of the most useful, because it allows us to download only the rows we need from the database.\n",
    "\n",
    "We use then `launch_job_async` to submit the query as an asynchronous query."
   ]
  },
  {
   "cell_type": "code",
   "execution_count": 15,
   "metadata": {},
   "outputs": [
    {
     "name": "stdout",
     "output_type": "stream",
     "text": [
      "INFO: Query finished. [astroquery.utils.tap.core]\n"
     ]
    },
    {
     "data": {
      "text/plain": [
       "<astroquery.utils.tap.model.job.Job at 0x7f87802de440>"
      ]
     },
     "execution_count": 15,
     "metadata": {},
     "output_type": "execute_result"
    }
   ],
   "source": [
    "job = Gaia.launch_job_async(query2)\n",
    "job\n"
   ]
  },
  {
   "cell_type": "markdown",
   "metadata": {},
   "source": [
    "And here are the results."
   ]
  },
  {
   "cell_type": "code",
   "execution_count": 16,
   "metadata": {},
   "outputs": [
    {
     "data": {
      "text/html": [
       "<div><i>Table length=3000</i>\n",
       "<table id=\"table140219056988576\" class=\"table-striped table-bordered table-condensed\">\n",
       "<thead><tr><th>source_id</th><th>ra</th><th>dec</th><th>pmra</th><th>pmdec</th><th>parallax</th></tr></thead>\n",
       "<thead><tr><th></th><th>deg</th><th>deg</th><th>mas / yr</th><th>mas / yr</th><th>mas</th></tr></thead>\n",
       "<thead><tr><th>int64</th><th>float64</th><th>float64</th><th>float64</th><th>float64</th><th>float64</th></tr></thead>\n",
       "<tr><td>6003867407926739456</td><td>229.24758693475437</td><td>-43.16625918475101</td><td>-3.9049079044132275</td><td>-3.422843525415794</td><td>0.05337544640744751</td></tr>\n",
       "<tr><td>6003862593274134272</td><td>229.3240572514041</td><td>-43.30003699919699</td><td>-0.22955735153158047</td><td>-0.9573006030523264</td><td>0.2910314419482718</td></tr>\n",
       "<tr><td>6003875581255862912</td><td>229.36961431833257</td><td>-43.03090376178989</td><td>-1.5247425988530106</td><td>-3.753223250404989</td><td>-0.21654434890941276</td></tr>\n",
       "<tr><td>6003855794347089280</td><td>227.8787501383429</td><td>-42.0304574241058</td><td>-6.2945330129631</td><td>-7.315154180715561</td><td>0.5714909134248712</td></tr>\n",
       "<tr><td>6003880013661767680</td><td>229.09787222898308</td><td>-43.14185448285732</td><td>-7.7266148254774345</td><td>-5.5070759763662265</td><td>0.1649270591240445</td></tr>\n",
       "<tr><td>6003864964096236160</td><td>229.38597602489725</td><td>-43.19593891106351</td><td>-1.8721997950809894</td><td>-2.7949125414475304</td><td>-0.10824132246034551</td></tr>\n",
       "<tr><td>6003863452267599360</td><td>229.43070771018938</td><td>-43.293186721356236</td><td>-2.000916932184583</td><td>-3.4138337304921507</td><td>-0.7520271427356142</td></tr>\n",
       "<tr><td>6003882526223613696</td><td>229.16484355674228</td><td>-43.0038650003512</td><td>-2.6359111543799414</td><td>-1.6866297327050366</td><td>0.18630754942153394</td></tr>\n",
       "<tr><td>6003866579003940096</td><td>229.26086330590024</td><td>-43.19788846601107</td><td>-4.7560742261234505</td><td>-4.194178687550287</td><td>0.37909391434721096</td></tr>\n",
       "<tr><td>6003884931394538752</td><td>229.06612564541248</td><td>-42.98700369253328</td><td>-2.19026412081575</td><td>-7.092835126702379</td><td>-0.6693156171278136</td></tr>\n",
       "<tr><td>...</td><td>...</td><td>...</td><td>...</td><td>...</td><td>...</td></tr>\n",
       "<tr><td>4144481163936971776</td><td>268.9777484128916</td><td>-17.615767930563578</td><td>-3.9350954325746663</td><td>-5.370675284382489</td><td>0.3292270536740055</td></tr>\n",
       "<tr><td>4150343274560977664</td><td>270.75961959849275</td><td>-12.780118097949044</td><td>-4.2185360019522875</td><td>0.4364044266854371</td><td>0.6550919788068258</td></tr>\n",
       "<tr><td>4150359462292975744</td><td>269.4598560265734</td><td>-13.581152933075247</td><td>-3.6816229007629744</td><td>-4.6897000893451235</td><td>0.2618111512445049</td></tr>\n",
       "<tr><td>4150378188398199936</td><td>269.42870832956356</td><td>-13.380981453828792</td><td>-0.6434038671051288</td><td>-5.179900683338013</td><td>0.2755307735665617</td></tr>\n",
       "<tr><td>4150353655544519936</td><td>269.2849119272715</td><td>-13.711397572153809</td><td>-1.0932530548759516</td><td>-1.2971922597796013</td><td>0.4472171014058958</td></tr>\n",
       "<tr><td>4150349669765356928</td><td>269.26786427317353</td><td>-13.806605097159611</td><td>-3.9467030710574824</td><td>-6.798557102481703</td><td>0.7277696372850622</td></tr>\n",
       "<tr><td>4150366398669624576</td><td>269.0985739248874</td><td>-13.68067502418378</td><td>-1.4867925644182218</td><td>-5.662065282602578</td><td>0.08900969709768984</td></tr>\n",
       "<tr><td>4150348531605224832</td><td>269.2935806133996</td><td>-13.85298122289925</td><td>-1.1198501229015163</td><td>-4.0542893716753605</td><td>0.4481019617459442</td></tr>\n",
       "<tr><td>4150377879113471488</td><td>269.44596151182793</td><td>-13.402757781543043</td><td>-2.1301611165739374</td><td>-4.9579679292971095</td><td>0.4073230672830835</td></tr>\n",
       "<tr><td>4150334993864716416</td><td>270.6269860649764</td><td>-12.909479355615359</td><td>-0.8210912912929142</td><td>-4.018306282863701</td><td>0.0941558401274212</td></tr>\n",
       "</table></div>"
      ],
      "text/plain": [
       "<Table length=3000>\n",
       "     source_id              ra                 dec         ...        pmdec              parallax      \n",
       "                           deg                 deg         ...       mas / yr              mas         \n",
       "       int64             float64             float64       ...       float64             float64       \n",
       "------------------- ------------------ ------------------- ... ------------------- --------------------\n",
       "6003867407926739456 229.24758693475437  -43.16625918475101 ...  -3.422843525415794  0.05337544640744751\n",
       "6003862593274134272  229.3240572514041  -43.30003699919699 ... -0.9573006030523264   0.2910314419482718\n",
       "6003875581255862912 229.36961431833257  -43.03090376178989 ...  -3.753223250404989 -0.21654434890941276\n",
       "6003855794347089280  227.8787501383429   -42.0304574241058 ...  -7.315154180715561   0.5714909134248712\n",
       "6003880013661767680 229.09787222898308  -43.14185448285732 ... -5.5070759763662265   0.1649270591240445\n",
       "6003864964096236160 229.38597602489725  -43.19593891106351 ... -2.7949125414475304 -0.10824132246034551\n",
       "6003863452267599360 229.43070771018938 -43.293186721356236 ... -3.4138337304921507  -0.7520271427356142\n",
       "6003882526223613696 229.16484355674228   -43.0038650003512 ... -1.6866297327050366  0.18630754942153394\n",
       "6003866579003940096 229.26086330590024  -43.19788846601107 ...  -4.194178687550287  0.37909391434721096\n",
       "6003884931394538752 229.06612564541248  -42.98700369253328 ...  -7.092835126702379  -0.6693156171278136\n",
       "                ...                ...                 ... ...                 ...                  ...\n",
       "4144481163936971776  268.9777484128916 -17.615767930563578 ...  -5.370675284382489   0.3292270536740055\n",
       "4150343274560977664 270.75961959849275 -12.780118097949044 ...  0.4364044266854371   0.6550919788068258\n",
       "4150359462292975744  269.4598560265734 -13.581152933075247 ... -4.6897000893451235   0.2618111512445049\n",
       "4150378188398199936 269.42870832956356 -13.380981453828792 ...  -5.179900683338013   0.2755307735665617\n",
       "4150353655544519936  269.2849119272715 -13.711397572153809 ... -1.2971922597796013   0.4472171014058958\n",
       "4150349669765356928 269.26786427317353 -13.806605097159611 ...  -6.798557102481703   0.7277696372850622\n",
       "4150366398669624576  269.0985739248874  -13.68067502418378 ...  -5.662065282602578  0.08900969709768984\n",
       "4150348531605224832  269.2935806133996  -13.85298122289925 ... -4.0542893716753605   0.4481019617459442\n",
       "4150377879113471488 269.44596151182793 -13.402757781543043 ... -4.9579679292971095   0.4073230672830835\n",
       "4150334993864716416  270.6269860649764 -12.909479355615359 ...  -4.018306282863701   0.0941558401274212"
      ]
     },
     "execution_count": 16,
     "metadata": {},
     "output_type": "execute_result"
    }
   ],
   "source": [
    "results = job.get_results()\n",
    "results\n"
   ]
  },
  {
   "cell_type": "markdown",
   "metadata": {},
   "source": [
    "You might notice that some values of parallax are negative. Negative parallaxes in Gaia are caused by errors in the observations, thus having no physical meaning. But, as can be found in the Gaia FAQ, they can be a useful diagnostic on the quality of the astrometric solution."
   ]
  },
  {
   "cell_type": "markdown",
   "metadata": {},
   "source": [
    "### Operators\n",
    "\n",
    "Within a `WHERE` clause, you can use any of the SQL comparison operators. These are the most common ones:\n",
    "\n",
    "\n",
    "`>` greater than\n",
    "`<` less than\n",
    "`>=` greater than or equal\n",
    "`<=` less than or equal\n",
    "`=` equal\n",
    "`!=` or `<>` not equal\n",
    "\n",
    "As we deal here with Python and with ADQL, it is important to notice that some operators are different. In particular, notice that the equality operator in ADQL is `=`, not `==` as in Python.\n",
    "\n",
    "Logical operators like the above can be combined to create more complex `WHERE` clauses."
   ]
  },
  {
   "cell_type": "markdown",
   "metadata": {},
   "source": [
    "**Exercise:** Modify the previous query to select rows where `bp_rp` is between -0.75 and 2.\n",
    "\n",
    "Background: Selecting stars with `bp-rp` less than 2 excludes many class M dwarf stars, which are low temperature, low luminosity. A star like that at the distance of GD-1 would be hard to detect, so if it is detected, it it more likely to be in the foreground."
   ]
  },
  {
   "cell_type": "code",
   "execution_count": null,
   "metadata": {},
   "outputs": [],
   "source": [
    "\n",
    "\n"
   ]
  },
  {
   "cell_type": "markdown",
   "metadata": {},
   "source": [
    "## 3. Best Practices <a class=\"anchor\" id=\"third-bullet\"></a>\n",
    "\n",
    "\n",
    "If it's not possible (or not practical) to download an entire dataset, use queries to select the data you need.\n",
    "\n",
    "Reading te documentation and metadata is essential to make sure you understand the table structure, their content and their meaning.\n",
    "\n",
    "Like each kind of code, queries should be developed incrementally: start with something simple, test it, and add a little bit at a time.\n",
    "\n",
    "Always use ADQL features like TOP and COUNT to test before you run a query that might return a lot of data.\n",
    "\n",
    "If you know your query will return fewer than 2000 rows, you can run it synchronously, which might complete faster. If it might return more than 2000 rows, you should run it asynchronously.\n",
    "\n",
    "Despite ADQL and SQL are not case-sensitive and don't require line breaks, you should capitalize the keywords and break a query into multiple lines, both for reasons of readability.\n",
    "\n",
    "\n",
    "Finally: We use here Juypyter notebooks. They are a good way for presenting, developing and testing code, but real productive code should be run as a script, not as a Jupyter notebook.\n",
    "\n",
    "\n"
   ]
  },
  {
   "cell_type": "code",
   "execution_count": null,
   "metadata": {},
   "outputs": [],
   "source": []
  },
  {
   "cell_type": "markdown",
   "metadata": {
    "slideshow": {
     "slide_type": "slide"
    }
   },
   "source": [
    "## Summary <a class=\"anchor\" id=\"third-bullet\"></a>\n",
    "\n",
    "In this lession, we have learnt how to to work with data from Gaia.\n",
    "\n",
    "This notebook demonstrates the following steps:\n",
    "\n",
    "* Making a connection to the Gaia server\n",
    "* Exploring information about the database and the tables it contains\n",
    "* Writing a query and sending it to the server\n",
    "* Downloading the response from the server as an Astropy Table.\n",
    "\n"
   ]
  },
  {
   "cell_type": "code",
   "execution_count": null,
   "metadata": {},
   "outputs": [],
   "source": []
  }
 ],
 "metadata": {
  "anaconda-cloud": {},
  "kernelspec": {
   "display_name": "Python 3 (ipykernel)",
   "language": "python",
   "name": "python3"
  },
  "language_info": {
   "codemirror_mode": {
    "name": "ipython",
    "version": 3
   },
   "file_extension": ".py",
   "mimetype": "text/x-python",
   "name": "python",
   "nbconvert_exporter": "python",
   "pygments_lexer": "ipython3",
   "version": "3.10.12"
  }
 },
 "nbformat": 4,
 "nbformat_minor": 1
}
